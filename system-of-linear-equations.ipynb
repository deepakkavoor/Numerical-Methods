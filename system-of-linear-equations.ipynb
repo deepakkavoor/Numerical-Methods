{
 "metadata": {
  "language_info": {
   "codemirror_mode": {
    "name": "ipython",
    "version": 3
   },
   "file_extension": ".py",
   "mimetype": "text/x-python",
   "name": "python",
   "nbconvert_exporter": "python",
   "pygments_lexer": "ipython3",
   "version": "3.8.5-final"
  },
  "orig_nbformat": 2,
  "kernelspec": {
   "name": "venv",
   "display_name": "venv"
  }
 },
 "nbformat": 4,
 "nbformat_minor": 2,
 "cells": [
  {
   "cell_type": "markdown",
   "metadata": {},
   "source": [
    "# System of Linear equations\n",
    "\n",
    "Iterative techniques to find solutions of `AX = b`"
   ]
  },
  {
   "cell_type": "markdown",
   "metadata": {},
   "source": [
    "## Jacobi method"
   ]
  },
  {
   "cell_type": "code",
   "execution_count": null,
   "metadata": {},
   "outputs": [],
   "source": [
    "import numpy as np\n",
    "\n",
    "def jacobi(dim, A, B, tol, n):\n",
    "    \"\"\"\n",
    "    Arguments\n",
    "    ---------\n",
    "    dim: int\n",
    "        Dimension of square matrix `A`\n",
    "    A: 2D np.array\n",
    "        Coefficient matrix\n",
    "    B: np.array\n",
    "        Constant matrix\n",
    "    tol: float\n",
    "        tolerance\n",
    "    n: int\n",
    "        maximum number of iterations\n",
    "    \"\"\"\n",
    "    X0 = np.array(dim*[0.])\n",
    "    X1 = np.array(dim*[1.])\n",
    "\n",
    "    iterations = 0\n",
    "    while np.max(abs(X0 - X1)) > tol and iterations < n:\n",
    "        X0 = X1\n",
    "        X1 = np.array(dim*[0.])\n",
    "\n",
    "        for i in range(dim):\n",
    "            for j in range(dim):\n",
    "                X1[i] += (-A[i][j]*X0[j])\n",
    "            X1[i] += A[i][i]*X0[i]\n",
    "            X1[i] += B[i]\n",
    "            X1[i] /= A[i][i]\n",
    "        \n",
    "        print(X1)\n",
    "        iterations += 1\n",
    "\n",
    "    print(\"iterations:\", iterations)\n",
    "    \n",
    "    return X1"
   ]
  },
  {
   "cell_type": "code",
   "execution_count": null,
   "metadata": {
    "tags": []
   },
   "outputs": [],
   "source": [
    "import numpy as np\n",
    "\n",
    "dim = 3\n",
    "A = np.array([\n",
    "    [4, 3, 0],\n",
    "    [3, 4, -1],\n",
    "    [0, -1, 4]\n",
    "    ], dtype=float)\n",
    "B = np.array([24, 30, -24], dtype=float)\n",
    "tol = 1e-5\n",
    "n = 100\n",
    "\n",
    "jacobi(dim, A, B, tol, n)"
   ]
  },
  {
   "cell_type": "markdown",
   "metadata": {},
   "source": [
    "## Gauss-Siedel method"
   ]
  },
  {
   "cell_type": "code",
   "execution_count": null,
   "metadata": {},
   "outputs": [],
   "source": [
    "import numpy as np\n",
    "\n",
    "def gauss_siedel(dim, A, B, tol, n):\n",
    "    \"\"\"\n",
    "    Arguments\n",
    "    ---------\n",
    "    dim: int\n",
    "        Dimension of square matrix `A`\n",
    "    A: 2D np.array\n",
    "        Coefficient matrix\n",
    "    B: np.array\n",
    "        Constant matrix\n",
    "    tol: float\n",
    "        tolerance\n",
    "    n: int\n",
    "        maximum number of iterations\n",
    "    \"\"\"\n",
    "    X0 = np.array(dim*[0.])\n",
    "    X1 = np.array(dim*[1.])\n",
    "\n",
    "    iterations = 0\n",
    "    while np.max(abs(X0 - X1)) > tol and iterations < n:\n",
    "        X0 = X1\n",
    "        X1 = np.array(dim*[0.])\n",
    "\n",
    "        for i in range(dim):\n",
    "            for j in range(i):\n",
    "                X1[i] += (-A[i][j]*X1[j])\n",
    "            for j in range(i+1, dim):\n",
    "                X1[i] += (-A[i][j]*X0[j])\n",
    "            X1[i] += B[i]\n",
    "            X1[i] /= A[i][i]\n",
    "        \n",
    "        print(X1)\n",
    "        iterations += 1\n",
    "\n",
    "    print(\"iterations:\", iterations)\n",
    "    \n",
    "    return X1"
   ]
  },
  {
   "cell_type": "code",
   "execution_count": null,
   "metadata": {
    "tags": []
   },
   "outputs": [],
   "source": [
    "import numpy as np\n",
    "\n",
    "dim = 3\n",
    "A = np.array([\n",
    "    [4, 3, 0],\n",
    "    [3, 4, -1],\n",
    "    [0, -1, 4]\n",
    "    ], dtype=float)\n",
    "B = np.array([24, 30, -24], dtype=float)\n",
    "tol = 1e-5\n",
    "n = 100\n",
    "\n",
    "gauss_siedel(dim, A, B, tol, n)"
   ]
  },
  {
   "cell_type": "markdown",
   "metadata": {},
   "source": [
    "## SOR (Succesive Over Reduction) method"
   ]
  },
  {
   "cell_type": "code",
   "execution_count": null,
   "metadata": {},
   "outputs": [],
   "source": [
    "import numpy as np\n",
    "\n",
    "def SOR(dim, A, B, ω, tol, n):\n",
    "    \"\"\"\n",
    "    Arguments\n",
    "    ---------\n",
    "    dim: int\n",
    "        Dimension of square matrix `A`\n",
    "    A: 2D np.array\n",
    "        Coefficient matrix\n",
    "    B: np.array\n",
    "        Constant matrix\n",
    "    ω: float\n",
    "        Weigth to residual part of Gauss-Siedel method\n",
    "    tol: float\n",
    "        tolerance\n",
    "    n: int\n",
    "        maximum number of iterations\n",
    "    \"\"\"\n",
    "    X0 = np.array(dim*[0.])\n",
    "    X1 = np.array(dim*[1.])\n",
    "\n",
    "    iterations = 0\n",
    "    while np.max(abs(X0 - X1)) > tol and iterations < n:\n",
    "        X0 = X1\n",
    "        X1 = np.array(dim*[0.])\n",
    "\n",
    "        for i in range(dim):\n",
    "            for j in range(i):\n",
    "                X1[i] += (-A[i][j]*X1[j])\n",
    "            for j in range(i+1, dim):\n",
    "                X1[i] += (-A[i][j]*X0[j])\n",
    "            X1[i] += B[i]\n",
    "            X1[i] /= A[i][i]\n",
    "\n",
    "            X1[i] *= ω\n",
    "            X1[i] += (1-ω)*X0[i]\n",
    "        \n",
    "        print(X1)\n",
    "        iterations += 1\n",
    "\n",
    "    print(\"iterations:\", iterations)\n",
    "    \n",
    "    return X1"
   ]
  },
  {
   "cell_type": "code",
   "execution_count": null,
   "metadata": {
    "tags": []
   },
   "outputs": [],
   "source": [
    "import numpy as np\n",
    "\n",
    "dim = 3\n",
    "A = np.array([\n",
    "    [4, 3, 0],\n",
    "    [3, 4, -1],\n",
    "    [0, -1, 4]\n",
    "    ], dtype=float)\n",
    "B = np.array([24, 30, -24], dtype=float)\n",
    "ω = 1.25\n",
    "tol = 1e-5\n",
    "n = 100\n",
    "\n",
    "SOR(dim, A, B, ω, tol, n)"
   ]
  },
  {
   "cell_type": "code",
   "execution_count": null,
   "metadata": {},
   "outputs": [],
   "source": []
  }
 ]
}