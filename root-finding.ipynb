{
 "metadata": {
  "language_info": {
   "codemirror_mode": {
    "name": "ipython",
    "version": 3
   },
   "file_extension": ".py",
   "mimetype": "text/x-python",
   "name": "python",
   "nbconvert_exporter": "python",
   "pygments_lexer": "ipython3",
   "version": "3.8.5-final"
  },
  "orig_nbformat": 2,
  "kernelspec": {
   "name": "venv",
   "display_name": "venv"
  }
 },
 "nbformat": 4,
 "nbformat_minor": 2,
 "cells": [
  {
   "cell_type": "markdown",
   "metadata": {},
   "source": [
    "# Root finding problem\n",
    "\n",
    "Finding root or solution for an equation of the form `f(x) = 0`"
   ]
  },
  {
   "cell_type": "markdown",
   "metadata": {},
   "source": [
    "## Newton's method"
   ]
  },
  {
   "cell_type": "code",
   "execution_count": null,
   "metadata": {},
   "outputs": [],
   "source": [
    "def newton(f, f_der, x, tol):\n",
    "    \"\"\"\n",
    "    Arguments\n",
    "    ---------\n",
    "    f: function\n",
    "        function `f` to find root of\n",
    "    f_der: function\n",
    "        Derivative of `f`\n",
    "    x: float\n",
    "        Initial guess of root\n",
    "    tol: float \n",
    "        tolerance\n",
    "    \"\"\"\n",
    "    next_sequence_item = lambda x: x - f(x)/f_der(x)\n",
    "\n",
    "    while abs(f(x)) > tol:\n",
    "        x = next_sequence_item(x)\n",
    "        # print(x, f(x))\n",
    "\n",
    "    return x"
   ]
  },
  {
   "cell_type": "code",
   "execution_count": null,
   "metadata": {},
   "outputs": [],
   "source": [
    "## Using newton's method\n",
    "\n",
    "from math import cos, sin\n",
    "\n",
    "f = lambda x: sin(x) + 3*cos(x) - 2\n",
    "f_der = lambda x: cos(x) - 3*sin(x)\n",
    "x = 1\n",
    "tol = 1e-6\n",
    "\n",
    "newton(f, f_der, x, tol)"
   ]
  },
  {
   "cell_type": "markdown",
   "metadata": {},
   "source": [
    "## Secant Method"
   ]
  },
  {
   "cell_type": "code",
   "execution_count": null,
   "metadata": {},
   "outputs": [],
   "source": [
    "def secant(f, x0, x1, tol):\n",
    "    \"\"\"\n",
    "    Arguments\n",
    "    ---------\n",
    "    f: function\n",
    "        function `f` to find root of\n",
    "    x0, x1: float\n",
    "        Initial two guess of root\n",
    "    tol: float \n",
    "        tolerance\n",
    "    \"\"\"\n",
    "    next_sequence_item = lambda x0, x1: x1 - f(x1)*(x1-x0)/(f(x1)-f(x0))\n",
    "\n",
    "    while abs(f(x1)) > tol:\n",
    "        x2 = next_sequence_item(x0, x1)\n",
    "        x0 = x1\n",
    "        x1 = x2\n",
    "        # print(x1, f(x1))\n",
    "\n",
    "    return x1"
   ]
  },
  {
   "cell_type": "code",
   "execution_count": null,
   "metadata": {},
   "outputs": [],
   "source": [
    "## Using secant method\n",
    "\n",
    "f = lambda x: sin(x) + 3*cos(x) - 2\n",
    "x0 = 0\n",
    "x1 = 1.5\n",
    "tol = 1e-6\n",
    "\n",
    "secant(f, x0, x1, tol)"
   ]
  },
  {
   "cell_type": "markdown",
   "metadata": {},
   "source": [
    "## False Position Method "
   ]
  },
  {
   "cell_type": "code",
   "execution_count": null,
   "metadata": {},
   "outputs": [],
   "source": [
    "def false_position(f, x0, x1, tol):\n",
    "    \"\"\"\n",
    "    Arguments\n",
    "    ---------\n",
    "    f: function\n",
    "        function `f` to find root of\n",
    "    x0, x1: float\n",
    "        Initial two guess of root\n",
    "    tol: float \n",
    "        tolerance\n",
    "    \"\"\"\n",
    "    next_sequence_item = lambda x0, x1: x1 - f(x1)*(x1-x0)/(f(x1)-f(x0))\n",
    "    x2 = next_sequence_item(x0, x1)\n",
    "    # print(x2, f(x2))\n",
    "\n",
    "    while abs(f(x1)) > tol:\n",
    "        x3 = 0\n",
    "        if f(x1)*f(x2) < 0:\n",
    "            x3 = next_sequence_item(x1, x2)\n",
    "            x0 = x1\n",
    "            x1 = x2\n",
    "            x2 = x3\n",
    "        else:\n",
    "            x3 = next_sequence_item(x0, x2)\n",
    "            x1 = x2\n",
    "            x2 = x3\n",
    "        # print(x3, f(x3))\n",
    "    \n",
    "    return x2"
   ]
  },
  {
   "cell_type": "code",
   "execution_count": null,
   "metadata": {},
   "outputs": [],
   "source": [
    "## Using false position\n",
    "\n",
    "from math import sin, cos\n",
    "\n",
    "f = lambda x: sin(x) + 3*cos(x) - 2\n",
    "x0 = 0\n",
    "x1 = 1.5\n",
    "tol = 1e-6\n",
    "\n",
    "false_position(f, x0, x1, tol)"
   ]
  }
 ]
}