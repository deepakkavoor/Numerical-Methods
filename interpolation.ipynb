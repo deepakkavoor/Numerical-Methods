{
 "metadata": {
  "language_info": {
   "codemirror_mode": {
    "name": "ipython",
    "version": 3
   },
   "file_extension": ".py",
   "mimetype": "text/x-python",
   "name": "python",
   "nbconvert_exporter": "python",
   "pygments_lexer": "ipython3",
   "version": "3.8.6-final"
  },
  "orig_nbformat": 2,
  "kernelspec": {
   "name": "Python 3.8.6 64-bit",
   "display_name": "Python 3.8.6 64-bit",
   "metadata": {
    "interpreter": {
     "hash": "767d51c1340bd893661ea55ea3124f6de3c7a262a8b4abca0554b478b1e2ff90"
    }
   }
  }
 },
 "nbformat": 4,
 "nbformat_minor": 2,
 "cells": [
  {
   "source": [
    "## Newton's Forward Interpolation"
   ],
   "cell_type": "markdown",
   "metadata": {}
  },
  {
   "cell_type": "code",
   "execution_count": 1,
   "metadata": {},
   "outputs": [],
   "source": [
    "def comb(n, i):\n",
    "    num = 1\n",
    "    den = 1\n",
    "\n",
    "    for j in range(0, i):\n",
    "        num *= (n-j)\n",
    "        den *= j+1\n",
    "    \n",
    "    return num/den\n",
    "\n",
    "def newton_forward_interpolation(x, y, x_pred):\n",
    "    \"\"\"\n",
    "    Arguments\n",
    "    ---------\n",
    "    x: list\n",
    "        x values\n",
    "    y: list\n",
    "        y value\n",
    "    x_pred: float\n",
    "        x value for which y value is being predicted\n",
    "    \"\"\"\n",
    "    if len(x) != len(y):\n",
    "        raise ValueError(\"x and y shape don't match\")\n",
    "\n",
    "    n = len(x)\n",
    "    h = x[1] - x[0]         # Assuming equidistant x values\n",
    "    u = (x_pred - x[0])/h\n",
    "\n",
    "    # Maintaining a column of forward difference table\n",
    "    # [Move ahead in the table in each iteration]\n",
    "    fd_col = list(y)\n",
    "\n",
    "    y_pred = 0\n",
    "    for i in range(0, n):\n",
    "        y_pred += comb(u, i) * fd_col[0]\n",
    "        for j in range(0, n-i-1):\n",
    "            fd_col[j] = fd_col[j+1] - fd_col[j]\n",
    "    \n",
    "    return y_pred"
   ]
  },
  {
   "cell_type": "code",
   "execution_count": 2,
   "metadata": {
    "tags": []
   },
   "outputs": [
    {
     "output_type": "execute_result",
     "data": {
      "text/plain": "0.23830952148437504"
     },
     "metadata": {},
     "execution_count": 2
    }
   ],
   "source": [
    "# Set of distint points\n",
    "x = [1, 1.02, 1.04, 1.06, 1.08]\n",
    "y = [0.242, 0.2371, 0.2323, 0.2275, 0.2227]\n",
    "\n",
    "# Find interpolated value for\n",
    "x_pred = 1.015\n",
    "\n",
    "newton_forward_interpolation(x, y, x_pred)"
   ]
  },
  {
   "source": [
    "## Newton's Backward Interpolation"
   ],
   "cell_type": "markdown",
   "metadata": {}
  },
  {
   "cell_type": "code",
   "execution_count": 3,
   "metadata": {},
   "outputs": [],
   "source": [
    "def newton_backward_interpolation(x, y, x_pred):\n",
    "    \"\"\"\n",
    "    Arguments\n",
    "    ---------\n",
    "    x: list\n",
    "        x values\n",
    "    y: list\n",
    "        y value\n",
    "    x_pred: float\n",
    "        x value for which y value is being predicted\n",
    "    \"\"\"\n",
    "    if len(x) != len(y):\n",
    "        raise ValueError(\"x and y shape don't match\")\n",
    "\n",
    "    n = len(x)\n",
    "    h = x[1] - x[0]         # Assuming equidistant x values\n",
    "    u = (x_pred - x[-1])/h\n",
    "\n",
    "    # Maintaining a column of (reverse) backward difference table\n",
    "    # [Move ahead in the table in each iteration]\n",
    "    rbk_col = y[::-1]   # reverse\n",
    "    print()\n",
    "\n",
    "    y_pred = 0\n",
    "    for i in range(0, n):\n",
    "        y_pred += (-1)**i * comb(-u, i) * rbk_col[0]\n",
    "        for j in range(0, n-i-1):\n",
    "            rbk_col[j] = rbk_col[j] - rbk_col[j+1]\n",
    "    \n",
    "    return y_pred"
   ]
  },
  {
   "cell_type": "code",
   "execution_count": 4,
   "metadata": {
    "tags": []
   },
   "outputs": [
    {
     "output_type": "stream",
     "name": "stdout",
     "text": "\n"
    },
    {
     "output_type": "execute_result",
     "data": {
      "text/plain": "0.7831697570560001"
     },
     "metadata": {},
     "execution_count": 4
    }
   ],
   "source": [
    "# Set of distint points\n",
    "x = [1, 1.05, 1.10, 1.15, 1.20, 1.25]\n",
    "y = [0.682689, 0.706282, 0.728668, 0.749856, 0.769861, 0.788700]\n",
    "\n",
    "# Find interpolated value for\n",
    "x_pred = 1.235\n",
    "\n",
    "newton_backward_interpolation(x, y, x_pred)"
   ]
  },
  {
   "source": [
    "## Newton's Divided Difference Interpolation"
   ],
   "cell_type": "markdown",
   "metadata": {}
  },
  {
   "cell_type": "code",
   "execution_count": 5,
   "metadata": {},
   "outputs": [],
   "source": [
    "def newton_divided_difference_interpolation(x, y, x_pred):\n",
    "    \"\"\"\n",
    "    Arguments\n",
    "    ---------\n",
    "    x: list\n",
    "        x values\n",
    "    y: list\n",
    "        y value\n",
    "    x_pred: float\n",
    "        x value for which y value is being predicted\n",
    "    \"\"\"\n",
    "    if len(x) != len(y):\n",
    "        raise ValueError(\"x and y shape don't match\")\n",
    "\n",
    "    n = len(x)\n",
    "\n",
    "    # Maintaining a column of divided difference table\n",
    "    # [Move ahead in the table in each iteration]\n",
    "    dd_col = list(y)\n",
    "\n",
    "    x_coef = 1\n",
    "    y_pred = 0\n",
    "    for i in range(0, n):\n",
    "        y_pred += x_coef * dd_col[0]\n",
    "        x_coef *= (x_pred - x[i])\n",
    "        for j in range(0, n-i-1):\n",
    "            dd_col[j] = (dd_col[j+1] - dd_col[j])/(x[j+i+1] - x[j])\n",
    "    \n",
    "    return y_pred"
   ]
  },
  {
   "cell_type": "code",
   "execution_count": 6,
   "metadata": {},
   "outputs": [
    {
     "output_type": "execute_result",
     "data": {
      "text/plain": "351.0"
     },
     "metadata": {},
     "execution_count": 6
    }
   ],
   "source": [
    "# Set of distint points\n",
    "x = [0.5, 1.5, 3.0, 5.0, 6.5, 8.0]\n",
    "y = [1.625, 5.875, 31.0, 131.0, 282.125, 521.0]\n",
    "\n",
    "# Find interpolated value for\n",
    "x_pred = 7\n",
    "\n",
    "newton_divided_difference_interpolation(x, y, x_pred)"
   ]
  },
  {
   "source": [
    "## Langrange's Interpolation"
   ],
   "cell_type": "markdown",
   "metadata": {}
  },
  {
   "cell_type": "code",
   "execution_count": 16,
   "metadata": {},
   "outputs": [],
   "source": [
    "def lagrange_interpolation(x, y, x_pred):\n",
    "    \"\"\"\n",
    "    Arguments\n",
    "    ---------\n",
    "    x: list\n",
    "        x values\n",
    "    y: list\n",
    "        y value\n",
    "    x_pred: float\n",
    "        x value for which y value is being predicted\n",
    "    \"\"\"\n",
    "    if len(x) != len(y):\n",
    "        raise ValueError(\"x and y shape don't match\")\n",
    "\n",
    "    n = len(x)\n",
    "\n",
    "    def L(k):\n",
    "        num = 1\n",
    "        den = 1\n",
    "        for i in range(n):\n",
    "            if i != k:\n",
    "                num *= (x_pred - x[i])\n",
    "                den *= (x[k] - x[i])\n",
    "        return num/den\n",
    "\n",
    "    y_pred = 0\n",
    "    for i in range(0, n):\n",
    "        y_pred += y[i] * L(i)\n",
    "    \n",
    "    return y_pred"
   ]
  },
  {
   "cell_type": "code",
   "execution_count": 17,
   "metadata": {
    "tags": []
   },
   "outputs": [
    {
     "output_type": "execute_result",
     "data": {
      "text/plain": "2.4785971428571423"
     },
     "metadata": {},
     "execution_count": 17
    }
   ],
   "source": [
    "# Set of distint points\n",
    "x = [300, 304, 305, 307]\n",
    "y = [2.4771, 2.4829, 2.4843, 2.4871]\n",
    "\n",
    "# Find interpolated value for\n",
    "x_pred = 301\n",
    "\n",
    "lagrange_interpolation(x, y, x_pred)"
   ]
  }
 ]
}